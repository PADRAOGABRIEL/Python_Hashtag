{
 "cells": [
  {
   "cell_type": "markdown",
   "metadata": {},
   "source": [
    "# Exercícios\n",
    "\n",
    "São exercícios bem parecidos com os que fizemos com listas. Mas na tupla, podemos não só trabalhar com índices, mas fazer o \"unpacking\" das tuplas, o que pode facilitar nossos códigos.\n",
    "\n",
    "## 1. Análise de Vendas\n",
    "\n",
    "Nesse exercício vamos fazer uma \"análise simples\" de atingimento de Meta.\n",
    "\n",
    "Temos uma lista com os vendedores e os valores de vendas e queremos identificar (printar) quais os vendedores que bateram a meta e qual foi o valor que eles venderam."
   ]
  },
  {
   "cell_type": "code",
   "execution_count": 4,
   "metadata": {},
   "outputs": [
    {
     "name": "stdout",
     "output_type": "stream",
     "text": [
      "João vendeu 15000 unidades...\n",
      "Julia vendeu 27000 unidades...\n",
      "Marcus vendeu 9900 unidades...\n",
      "Maria vendeu 3750 unidades...\n",
      "Ana vendeu 10300 unidades...\n",
      "Alon vendeu 7870 unidades...\n"
     ]
    }
   ],
   "source": [
    "meta = 10000\n",
    "vendas = [\n",
    "    ('João', 15000),\n",
    "    ('Julia', 27000),\n",
    "    ('Marcus', 9900),\n",
    "    ('Maria', 3750),\n",
    "    ('Ana', 10300),\n",
    "    ('Alon', 7870),\n",
    "]\n",
    "\n",
    "\n",
    "for item in vendas:\n",
    "    funcionario,qtd_venda = item\n",
    "    print('{} vendeu {} unidades...'.format(funcionario,qtd_venda))"
   ]
  },
  {
   "cell_type": "markdown",
   "metadata": {},
   "source": [
    "## 2. Comparação com Ano Anterior\n",
    "\n",
    "Digamos que você está analisando as vendas de produtos de um ecommerce e quer identificar quais produtos tiveram no ano de 2020 mais vendas do que no ano de 2019, para reportar isso para a diretoria.\n",
    "\n",
    "Sua resposta pode ser um print de cada produto, qual foi a venda de 2019, a venda de 2020 e o % de crescimento de 2020 para 2019.\n",
    "\n",
    "Lembrando, para calcular o % de crescimento de um produto de um ano para o outro, podemos fazer: (vendas_produto2020/vendas_produto2019 - 1)\n",
    "\n",
    "A lógica da tupla é: (produto, vendas2019, vendas2020)"
   ]
  },
  {
   "cell_type": "code",
   "execution_count": 6,
   "metadata": {},
   "outputs": [
    {
     "name": "stdout",
     "output_type": "stream",
     "text": [
      "iphone teve um aumento de R$558,147 em vendas em 2019 para R$951,642 em 2020, conabilizando um aumento de 71%\n",
      "tv teve um aumento de R$405,252 em vendas em 2019 para R$787,604 em 2020, conabilizando um aumento de 94%\n",
      "máquina de café teve um aumento de R$718,654 em vendas em 2019 para R$867,660 em 2020, conabilizando um aumento de 21%\n",
      "notebook dell teve um aumento de R$422,760 em vendas em 2019 para R$694,913 em 2020, conabilizando um aumento de 64%\n",
      "notebook hp teve um aumento de R$154,753 em vendas em 2019 para R$539,704 em 2020, conabilizando um aumento de 249%\n",
      "microsoft surface teve um aumento de R$438,508 em vendas em 2019 para R$667,179 em 2020, conabilizando um aumento de 52%\n",
      "webcam teve um aumento de R$237,467 em vendas em 2019 para R$295,633 em 2020, conabilizando um aumento de 24%\n",
      "caixa de som teve um aumento de R$489,705 em vendas em 2019 para R$725,316 em 2020, conabilizando um aumento de 48%\n",
      "microfone teve um aumento de R$328,311 em vendas em 2019 para R$644,622 em 2020, conabilizando um aumento de 96%\n",
      "câmera canon teve um aumento de R$591,120 em vendas em 2019 para R$994,303 em 2020, conabilizando um aumento de 68%\n"
     ]
    }
   ],
   "source": [
    "vendas_produtos = [('iphone', 558147, 951642), ('galaxy', 712350, 244295), ('ipad', 573823, 26964), ('tv', 405252, 787604), ('máquina de café', 718654, 867660), ('kindle', 531580, 78830), ('geladeira', 973139, 710331), ('adega', 892292, 646016), ('notebook dell', 422760, 694913), ('notebook hp', 154753, 539704), ('notebook asus', 887061, 324831), ('microsoft surface', 438508, 667179), ('webcam', 237467, 295633), ('caixa de som', 489705, 725316), ('microfone', 328311, 644622), ('câmera canon', 591120, 994303)]\n",
    "\n",
    "for item in vendas_produtos:\n",
    "    produto,vendas2019,vendas2020 = item\n",
    "    crescimento = (vendas2020/vendas2019) - 1\n",
    "    if vendas2020 > vendas2019:\n",
    "        print('{} teve um aumento de R${:,} em vendas em 2019 para R${:,} em 2020, conabilizando um aumento de {:.0%}'.format(produto,vendas2019,vendas2020,crescimento))"
   ]
  }
 ],
 "metadata": {
  "kernelspec": {
   "display_name": "Python 3",
   "language": "python",
   "name": "python3"
  },
  "language_info": {
   "codemirror_mode": {
    "name": "ipython",
    "version": 3
   },
   "file_extension": ".py",
   "mimetype": "text/x-python",
   "name": "python",
   "nbconvert_exporter": "python",
   "pygments_lexer": "ipython3",
   "version": "3.11.2"
  }
 },
 "nbformat": 4,
 "nbformat_minor": 4
}
