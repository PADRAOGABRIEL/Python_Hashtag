{
 "cells": [
  {
   "cell_type": "markdown",
   "metadata": {},
   "source": [
    "# Exercícios\n",
    "\n",
    "## 1. Criando um Registro de Hóspedes\n",
    "\n",
    "Digamos que você está criando o sistema para registrar a chegada de hóspedes em um hotel. No hotel, os hóspedes podem ter quartos com 1, 2, 3 e 4 pessoas. Seu sistema deve conseguir:\n",
    "\n",
    "1. Identificar quantas pessoas o hóspede que acabou de chegar vai ter no quarto (perguntando por meio de input)\n",
    "2. De acordo com a quantidade de pessoas do hóspede, ele deve fazer um for para perguntar o cpf e o nome de cada pessoa, a fim de registrá-la no quarto (2 inputs para cada pessoa, 1 para o cpf e outro para o nome)\n",
    "3. O seu programa então deve gerar uma lista com todas as pessoas que ficarão no quarto em que cada item dessa lista é o nome da pessoa e o cpf da pessoa, assim:"
   ]
  },
  {
   "cell_type": "raw",
   "metadata": {},
   "source": [
    "quarto = [\n",
    "    ['João', 'cpf:00000000000'],\n",
    "    ['Julia', 'cpf:11111111111'],\n",
    "    ['Marcus', 'cpf:22222222222'],\n",
    "    ['Maria', 'cpf:33333333333'],\n",
    "]"
   ]
  },
  {
   "cell_type": "markdown",
   "metadata": {},
   "source": [
    "- Para simplificar, não vamos nos preocupar com possibilidades de \"tentar colocar mais de 1 hóspede, digitar o cpf errado, etc. Nosso objetivo é treinar a criação de uma rotina de cadastro"
   ]
  },
  {
   "cell_type": "code",
   "execution_count": null,
   "metadata": {},
   "outputs": [],
   "source": [
    "numero_pessoas = int(input('Quantas pessoas ficarão no quarto? Quartos de 1 a 4 pessoas'))\n",
    "quarto = []\n",
    "for i in range(numero_pessoas):\n",
    "    nome = input('Digite o nome da {} pessoa' .format(i+1))\n",
    "    cpf = input('Agora digite o cpf')\n",
    "    hospede = [nome, cpf]\n",
    "    quarto.append(hospede)\n",
    "\n",
    "print(quarto)\n"
   ]
  },
  {
   "cell_type": "markdown",
   "metadata": {},
   "source": [
    "## 2. Análise de Vendas\n",
    "\n",
    "Nesse exercício vamos fazer uma \"análise simples\" de atingimento de Meta.\n",
    "\n",
    "Temos uma lista com os vendedores e os valores de vendas e queremos identificar (printar) quais os vendedores que bateram a meta e qual foi o valor que eles venderam."
   ]
  },
  {
   "cell_type": "code",
   "execution_count": null,
   "metadata": {},
   "outputs": [],
   "source": [
    "meta = 10000\n",
    "vendas = [\n",
    "    ['João', 15000],\n",
    "    ['Julia', 27000],\n",
    "    ['Marcus', 9900],\n",
    "    ['Maria', 3750],\n",
    "    ['Ana', 10300],\n",
    "    ['Alon', 7870],\n",
    "]\n",
    "\n",
    "for item in vendas:\n",
    "    if item[1] > 10000:\n",
    "        print('{} bateu a meta!'.format(item[0]))\n",
    "    else:\n",
    "        print('Vendedor {} não bateu a meta'.format(item[0]))"
   ]
  },
  {
   "cell_type": "markdown",
   "metadata": {},
   "source": [
    "## 3. Comparação com Ano Anterior\n",
    "\n",
    "Digamos que você está analisando as vendas de produtos de um ecommerce e quer identificar quais produtos tiveram no ano de 2020 mais vendas do que no ano de 2019, para reportar isso para a diretoria.\n",
    "\n",
    "Sua resposta pode ser um print de cada produto, qual foi a venda de 2019, a venda de 2020 e o % de crescimento de 2020 para 2019.\n",
    "\n",
    "Lembrando, para calcular o % de crescimento de um produto de um ano para o outro, podemos fazer: (vendas_produto2020/vendas_produto2019 - 1)\n",
    "\n",
    "Dica: lembre do enumerate, ele pode facilitar seu \"for\""
   ]
  },
  {
   "cell_type": "code",
   "execution_count": 2,
   "metadata": {},
   "outputs": [
    {
     "name": "stdout",
     "output_type": "stream",
     "text": [
      "iphone teve um total de R$558,147 vendas em 2019 e R$951,642 em 2020, ficando com um aumento de 71%\n",
      "galaxy teve um total de R$712,350 em vendas em 2019 e 244,295 em 2020, ficando com um decréscimo de -66%\n",
      "ipad teve um total de R$573,823 em vendas em 2019 e 26,964 em 2020, ficando com um decréscimo de -95%\n",
      "tv teve um total de R$405,252 vendas em 2019 e R$787,604 em 2020, ficando com um aumento de 94%\n",
      "máquina de café teve um total de R$718,654 vendas em 2019 e R$867,660 em 2020, ficando com um aumento de 21%\n",
      "kindle teve um total de R$531,580 em vendas em 2019 e 78,830 em 2020, ficando com um decréscimo de -85%\n",
      "geladeira teve um total de R$973,139 em vendas em 2019 e 710,331 em 2020, ficando com um decréscimo de -27%\n",
      "adega teve um total de R$892,292 em vendas em 2019 e 646,016 em 2020, ficando com um decréscimo de -28%\n",
      "notebook dell teve um total de R$422,760 vendas em 2019 e R$694,913 em 2020, ficando com um aumento de 64%\n",
      "notebook hp teve um total de R$154,753 vendas em 2019 e R$539,704 em 2020, ficando com um aumento de 249%\n",
      "notebook asus teve um total de R$887,061 em vendas em 2019 e 324,831 em 2020, ficando com um decréscimo de -63%\n",
      "microsoft surface teve um total de R$438,508 vendas em 2019 e R$667,179 em 2020, ficando com um aumento de 52%\n",
      "webcam teve um total de R$237,467 vendas em 2019 e R$295,633 em 2020, ficando com um aumento de 24%\n",
      "caixa de som teve um total de R$489,705 vendas em 2019 e R$725,316 em 2020, ficando com um aumento de 48%\n",
      "microfone teve um total de R$328,311 vendas em 2019 e R$644,622 em 2020, ficando com um aumento de 96%\n",
      "câmera canon teve um total de R$591,120 vendas em 2019 e R$994,303 em 2020, ficando com um aumento de 68%\n"
     ]
    }
   ],
   "source": [
    "produtos = ['iphone', 'galaxy', 'ipad', 'tv', 'máquina de café', 'kindle', 'geladeira', 'adega', 'notebook dell', 'notebook hp', 'notebook asus', 'microsoft surface', 'webcam', 'caixa de som', 'microfone', 'câmera canon']\n",
    "vendas2019 = [558147,712350,573823,405252,718654,531580,973139,892292,422760,154753,887061,438508,237467,489705,328311,591120]\n",
    "vendas2020 = [951642,244295,26964,787604,867660,78830,710331,646016,694913,539704,324831,667179,295633,725316,644622,994303]\n",
    "\n",
    "for i, item in enumerate(produtos):\n",
    "    vendas_2019 = vendas2019[i]\n",
    "    vendas_2020 = vendas2020[i]\n",
    "    crescimento_produto = (vendas_2020/vendas_2019)-1\n",
    "    if crescimento_produto > 0:\n",
    "        print('{} teve um total de R${:,} vendas em 2019 e R${:,} em 2020, ficando com um aumento de {:.0%}'.format(produtos[i],vendas_2019,vendas_2020,crescimento_produto))\n",
    "    elif crescimento_produto < 0:\n",
    "        print('{} teve um total de R${:,} em vendas em 2019 e {:,} em 2020, ficando com um decréscimo de {:.0%}'.format(produtos[i],vendas_2019,vendas_2020,crescimento_produto))\n"
   ]
  }
 ],
 "metadata": {
  "kernelspec": {
   "display_name": "Python 3",
   "language": "python",
   "name": "python3"
  },
  "language_info": {
   "codemirror_mode": {
    "name": "ipython",
    "version": 3
   },
   "file_extension": ".py",
   "mimetype": "text/x-python",
   "name": "python",
   "nbconvert_exporter": "python",
   "pygments_lexer": "ipython3",
   "version": "3.11.2"
  }
 },
 "nbformat": 4,
 "nbformat_minor": 4
}
